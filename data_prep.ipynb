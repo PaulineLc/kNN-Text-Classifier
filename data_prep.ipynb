{
 "cells": [
  {
   "cell_type": "code",
   "execution_count": 1,
   "metadata": {
    "collapsed": true
   },
   "outputs": [],
   "source": [
    "import pandas as pd"
   ]
  },
  {
   "cell_type": "code",
   "execution_count": 86,
   "metadata": {
    "collapsed": true
   },
   "outputs": [],
   "source": [
    "class TextClassifier:\n",
    "    \n",
    "    def __init__(self, document, dataset):\n",
    "        self.document = document\n",
    "        self.dataset = dataset\n",
    "        self.similarity_table = []\n",
    "        \n",
    "    def classify(self, k, weighted=False):\n",
    "        #takes the k nearest neighboors\n",
    "        pass\n",
    "        \n",
    "    def create_similarity_table(self):\n",
    "        pass\n",
    "    \n",
    "    def calculate_cosine(self):\n",
    "        pass"
   ]
  },
  {
   "cell_type": "code",
   "execution_count": 87,
   "metadata": {
    "collapsed": true
   },
   "outputs": [],
   "source": [
    "class Dataset:\n",
    "    \n",
    "    def __init__(self, data_file, class_file):\n",
    "        self.df = pd.read_csv(data_file, \n",
    "                                    sep=\" \", \n",
    "                                    skiprows=2, \n",
    "                                    names=['doc_id', 'term_id', 'nb_occurences'])\n",
    "        self.class_df = pd.read_csv(class_file, \n",
    "                                      names=['doc_id', 'class'])"
   ]
  },
  {
   "cell_type": "code",
   "execution_count": 88,
   "metadata": {
    "collapsed": false
   },
   "outputs": [],
   "source": [
    "class Document:\n",
    "    \n",
    "    def __init__(self, doc_id):\n",
    "        self.doc_id = doc_id\n",
    "        self.bag_of_words = {}\n",
    "    \n",
    "    def create_bag_of_words(self, dataset):\n",
    "        '''returns a dictionary of all (term_id, occurrences) of the terms present in the document'''\n",
    "        df = dataset.df.loc[dataset.df['doc_id'] == self.doc_id].reset_index()\n",
    "        for i in range(df.shape[0]):\n",
    "            self.bag_of_words[df['term_id'][i]] = df['nb_occurences'][i]\n",
    "        return self.bag_of_words"
   ]
  },
  {
   "cell_type": "code",
   "execution_count": 89,
   "metadata": {
    "collapsed": false
   },
   "outputs": [],
   "source": [
    "my_dataset = Dataset('data/news_articles.mtx', 'data/news_articles.labels')"
   ]
  },
  {
   "cell_type": "code",
   "execution_count": 90,
   "metadata": {
    "collapsed": false
   },
   "outputs": [],
   "source": [
    "my_document = Document(1664)"
   ]
  },
  {
   "cell_type": "code",
   "execution_count": 85,
   "metadata": {
    "collapsed": false
   },
   "outputs": [
    {
     "data": {
      "text/plain": [
       "''"
      ]
     },
     "execution_count": 85,
     "metadata": {},
     "output_type": "execute_result"
    }
   ],
   "source": [
    "my_document.create_bag_of_words(my_dataset)\n",
    "\n",
    "my_document.bag_of_words\n",
    "\n",
    "\"\""
   ]
  }
 ],
 "metadata": {
  "kernelspec": {
   "display_name": "Python 3",
   "language": "python",
   "name": "python3"
  },
  "language_info": {
   "codemirror_mode": {
    "name": "ipython",
    "version": 3
   },
   "file_extension": ".py",
   "mimetype": "text/x-python",
   "name": "python",
   "nbconvert_exporter": "python",
   "pygments_lexer": "ipython3",
   "version": "3.5.1"
  }
 },
 "nbformat": 4,
 "nbformat_minor": 1
}
